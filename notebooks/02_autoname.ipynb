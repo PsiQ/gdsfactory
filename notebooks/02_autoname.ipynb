{
 "cells": [
  {
   "cell_type": "markdown",
   "metadata": {},
   "source": [
    "# Autoname\n",
    "\n",
    "Problem:\n",
    "\n",
    "1. In GDS different cells must have different names. Relying on the incrementals\n",
    "naming convention can be dangerous when you merge masks that have different\n",
    "cells build at different run times or if you Klayout for merging masks.\n",
    "2. In GDS two cells cannot have the same name.\n",
    "\n",
    "Solution: The decorator `pp.autoname` fixes both issues:\n",
    "\n",
    "1. By giving the cell name depending on the parameters that you pass\n",
    "2. By creating a cache of cells where we use the cell name as the key\n",
    "\n",
    "Lets see how it works"
   ]
  },
  {
   "cell_type": "code",
   "execution_count": null,
   "metadata": {},
   "outputs": [],
   "source": [
    "import pp\n",
    "\n",
    "\n",
    "@pp.autoname\n",
    "def wg(length=10, width=1):\n",
    "    c = pp.Component()\n",
    "    c.add_polygon([(0, 0), (length, 0), (length, width), (0, width)], layer=(1, 0))\n",
    "    c.add_port(name=\"W0\", midpoint=[0, width / 2], width=width, orientation=180)\n",
    "    c.add_port(name=\"E0\", midpoint=[length, width / 2], width=width, orientation=0)\n",
    "    return c"
   ]
  },
  {
   "cell_type": "markdown",
   "metadata": {},
   "source": [
    "See how the cells get the name from the parameters that you pass them"
   ]
  },
  {
   "cell_type": "code",
   "execution_count": null,
   "metadata": {},
   "outputs": [],
   "source": [
    "c = wg()\n",
    "print(c)\n",
    "\n",
    "c = wg(width=0.5)\n",
    "print(c)"
   ]
  },
  {
   "cell_type": "markdown",
   "metadata": {},
   "source": [
    "One challenge that you may face is when you actually want to have two different\n",
    "cells with the same parameters"
   ]
  },
  {
   "cell_type": "code",
   "execution_count": null,
   "metadata": {},
   "outputs": [],
   "source": [
    "# Problem\n",
    "\n",
    "c = pp.Component()\n",
    "R1 = pp.c.rectangle()  # Creates a rectangle (Unique ID 1)\n",
    "R2 = pp.c.rectangle()\n",
    "# Try Create a new rectangle that we want to change (but has the same name so we will get R1 from the cache)\n",
    "\n",
    "print(R1 == R2)\n",
    "print(R1)\n",
    "print(R2)\n",
    "\n",
    "r1r = c << R1  # Add the first rectangle to c\n",
    "r2r = c << R2  # Add the second rectangle to c\n",
    "pp.qp(c)\n",
    "\n",
    "# But now I want to rotate R2 -- I can't because it doesn't exist!\n",
    "R2.rotate(45)\n",
    "# I think I'm rotating a second rectangle, but actually R2 points to R1 even though I specifically tried to create two rectangles\n",
    "pp.qp(c)"
   ]
  },
  {
   "cell_type": "code",
   "execution_count": null,
   "metadata": {},
   "outputs": [],
   "source": [
    "# Solution 1, you create a separate rotated cell which has a different name and only includes a rotated reference\n",
    "\n",
    "c = pp.Component()\n",
    "R1 = pp.c.rectangle(size=(2, 1))\n",
    "# Creates a rectangle (Unique ID 1)\n",
    "\n",
    "R2 = pp.c.rectangle(size=(2, 1))\n",
    "# by default, `cache=True` this is actually returning the first rectangle!\n",
    "R3 = pp.rotate.rotate(R2, 45)\n",
    "\n",
    "print(R1 == R2)\n",
    "\n",
    "print(R1)\n",
    "print(R2)\n",
    "print(R3)\n",
    "\n",
    "r1r = c << R1  # Add the first rectangle to c\n",
    "r2r = c << R3  # Add the second rectangle to c\n",
    "pp.qp(c)"
   ]
  },
  {
   "cell_type": "code",
   "execution_count": null,
   "metadata": {},
   "outputs": [],
   "source": [
    "# Solution 2, you create a separate rectangle using cache=False\n",
    "import pp\n",
    "\n",
    "c = pp.Component()\n",
    "R1 = pp.c.rectangle(size=(3, 1))  # Creates a rectangle (uuid)\n",
    "R2 = pp.c.rectangle(size=(3, 1), name=f\"{R1.name}_r\", cache=False)\n",
    "# with `cache=False` this is actually returning a new rectangle\n",
    "# R2 has the parameters and would get the same name as R1 so you should give it a different name\n",
    "\n",
    "print(R1 == R2)\n",
    "print(R1)\n",
    "print(R2)\n",
    "\n",
    "r1r = c << R1  # Add the first rectangle to c\n",
    "r2r = c << R2  # Add the second rectangle to c\n",
    "R2.rotate(45)\n",
    "pp.qp(c)"
   ]
  },
  {
   "cell_type": "markdown",
   "metadata": {},
   "source": [
    "# Adding port markers\n",
    "\n",
    "When we decorate with autoname we can also pass a  `pins` flag that will\n",
    "add port markers to our component and a device recognizion layer"
   ]
  },
  {
   "cell_type": "code",
   "execution_count": null,
   "metadata": {},
   "outputs": [],
   "source": [
    "c = pp.c.waveguide(pins=True)\n",
    "pp.qp(c)\n",
    "pp.show(c)"
   ]
  },
  {
   "cell_type": "markdown",
   "metadata": {},
   "source": [
    "We can even define the `pins_function` that we use to a custom function to add\n",
    "markers\n",
    "port"
   ]
  },
  {
   "cell_type": "code",
   "execution_count": null,
   "metadata": {},
   "outputs": [],
   "source": [
    "from pp.add_pins import add_pins_triangle\n",
    "\n",
    "c = pp.c.waveguide(length=5, pins=True, pins_function=add_pins_triangle)\n",
    "pp.qp(c)\n",
    "pp.show(c)"
   ]
  },
  {
   "cell_type": "markdown",
   "metadata": {},
   "source": [
    "# Cache\n",
    "\n",
    "To avoid that 2 exact cells are not references of the same cell autoname has a\n",
    "cache where if component has already been build it will return the component\n",
    "from the cache\n",
    "\n",
    "You can always over-ride this with `cache = False` This is helpful when you are\n",
    "changing the code inside the function that is being cached."
   ]
  },
  {
   "cell_type": "code",
   "execution_count": null,
   "metadata": {},
   "outputs": [],
   "source": [
    "@pp.autoname\n",
    "def wg(length=10, width=1):\n",
    "    c = pp.Component()\n",
    "    c.add_polygon([(0, 0), (length, 0), (length, width), (0, width)], layer=(1, 0))\n",
    "    print(\"calling wg function\")\n",
    "    return c"
   ]
  },
  {
   "cell_type": "code",
   "execution_count": null,
   "metadata": {},
   "outputs": [],
   "source": [
    "wg1 = wg()  # autoname builds a waveguide\n",
    "print(wg1)"
   ]
  },
  {
   "cell_type": "code",
   "execution_count": null,
   "metadata": {},
   "outputs": [],
   "source": [
    "wg2 = wg()  # autoname returns the same waveguide as before"
   ]
  },
  {
   "cell_type": "code",
   "execution_count": null,
   "metadata": {},
   "outputs": [],
   "source": [
    "wg3 = wg(cache=False)\n",
    "# Forces a rebuild of the cache. This is very helpful changing function `wg`"
   ]
  },
  {
   "cell_type": "code",
   "execution_count": null,
   "metadata": {},
   "outputs": [],
   "source": [
    "wg = wg() if callable(wg) else wg"
   ]
  },
  {
   "cell_type": "code",
   "execution_count": null,
   "metadata": {},
   "outputs": [],
   "source": [
    "wg = 2"
   ]
  },
  {
   "cell_type": "code",
   "execution_count": null,
   "metadata": {},
   "outputs": [],
   "source": [
    "wg"
   ]
  },
  {
   "cell_type": "code",
   "execution_count": null,
   "metadata": {},
   "outputs": [],
   "source": []
  }
 ],
 "metadata": {
  "kernelspec": {
   "display_name": "Python 3",
   "language": "python",
   "name": "python3"
  },
  "language_info": {
   "codemirror_mode": {
    "name": "ipython",
    "version": 3
   },
   "file_extension": ".py",
   "mimetype": "text/x-python",
   "name": "python",
   "nbconvert_exporter": "python",
   "pygments_lexer": "ipython3",
   "version": "3.8.3"
  }
 },
 "nbformat": 4,
 "nbformat_minor": 4
}
