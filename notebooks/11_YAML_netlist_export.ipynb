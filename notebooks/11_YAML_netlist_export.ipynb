{
 "cells": [
  {
   "cell_type": "markdown",
   "metadata": {},
   "source": [
    "# YAML netlist export\n",
    "\n",
    "Any component exports its netlist `get_netlist` and returns an `OmegaConf` dict that can be easily converted into JSON and YAML"
   ]
  },
  {
   "cell_type": "code",
   "execution_count": null,
   "metadata": {},
   "outputs": [],
   "source": [
    "import io\n",
    "from omegaconf import OmegaConf\n",
    "import pp\n",
    "from pp.config import connections"
   ]
  },
  {
   "cell_type": "code",
   "execution_count": null,
   "metadata": {},
   "outputs": [],
   "source": [
    "c0 = pp.c.mzi()\n",
    "pp.qp(c0)"
   ]
  },
  {
   "cell_type": "code",
   "execution_count": null,
   "metadata": {},
   "outputs": [],
   "source": [
    "netlist = c0.get_netlist()"
   ]
  },
  {
   "cell_type": "markdown",
   "metadata": {},
   "source": [
    "This is what we did to store the netlist\n",
    "```\n",
    "OmegaConf.save(netlist, 'mzi.yml')\n",
    "connections = []  # reset the connections global variable\n",
    "```\n",
    "To be even safer (connections are stored in a global variable) you can restart your Jupyter Kernel"
   ]
  },
  {
   "cell_type": "code",
   "execution_count": null,
   "metadata": {},
   "outputs": [],
   "source": [
    "import pp\n",
    "\n",
    "c1 = pp.component_from_yaml('mzi.yml')\n",
    "pp.show(c1)\n",
    "pp.plotgds(c1)"
   ]
  },
  {
   "cell_type": "code",
   "execution_count": null,
   "metadata": {},
   "outputs": [],
   "source": [
    "len(c1.get_netlist().connections)"
   ]
  },
  {
   "cell_type": "markdown",
   "metadata": {},
   "source": [
    "You can also reconstruct the circuit from the instances and placements but the you lose the most important part of the netlist, which is the connections"
   ]
  },
  {
   "cell_type": "markdown",
   "metadata": {},
   "source": [
    "This is what we did to store only instances and placements\n",
    "```\n",
    "netlist = OmegaConf.create(dict(instances=netlist.instances, placements=netlist.placements))\n",
    "OmegaConf.save(netlist, 'mzi2.yml')\n",
    "\n",
    "```"
   ]
  },
  {
   "cell_type": "code",
   "execution_count": null,
   "metadata": {},
   "outputs": [],
   "source": [
    "connections.clear()  # reset the connections global variable"
   ]
  },
  {
   "cell_type": "code",
   "execution_count": null,
   "metadata": {},
   "outputs": [],
   "source": [
    "import pp\n",
    "\n",
    "c2 = pp.component_from_yaml('mzi2.yml')\n",
    "pp.show(c2)\n",
    "pp.plotgds(c2)"
   ]
  },
  {
   "cell_type": "code",
   "execution_count": null,
   "metadata": {},
   "outputs": [],
   "source": [
    "len(c2.get_netlist().connections)"
   ]
  },
  {
   "cell_type": "markdown",
   "metadata": {},
   "source": [
    "A better way to reconstruct the circuit and maintain connectivity is from the instances and connections"
   ]
  },
  {
   "cell_type": "markdown",
   "metadata": {},
   "source": [
    "This is what we did to store only instances and placements\n",
    "```\n",
    "c0 = pp.c.mzi()\n",
    "netlist = c0.get_netlist()\n",
    "netlist = OmegaConf.create(dict(instances=netlist.instances, connections=netlist.connections))\n",
    "OmegaConf.save(netlist, 'mzi3.yml')\n",
    "```"
   ]
  },
  {
   "cell_type": "code",
   "execution_count": null,
   "metadata": {},
   "outputs": [],
   "source": [
    "connections.clear()  # reset the connections global variable"
   ]
  },
  {
   "cell_type": "code",
   "execution_count": null,
   "metadata": {},
   "outputs": [],
   "source": [
    "import pp\n",
    "\n",
    "c3 = pp.component_from_yaml('mzi3.yml')\n",
    "pp.show(c3)\n",
    "pp.plotgds(c3)"
   ]
  },
  {
   "cell_type": "code",
   "execution_count": null,
   "metadata": {},
   "outputs": [],
   "source": [
    "len(c3.get_netlist().connections)"
   ]
  }
 ],
 "metadata": {
  "kernelspec": {
   "display_name": "Python 3",
   "language": "python",
   "name": "python3"
  },
  "language_info": {
   "codemirror_mode": {
    "name": "ipython",
    "version": 3
   },
   "file_extension": ".py",
   "mimetype": "text/x-python",
   "name": "python",
   "nbconvert_exporter": "python",
   "pygments_lexer": "ipython3",
   "version": "3.8.3"
  }
 },
 "nbformat": 4,
 "nbformat_minor": 4
}
