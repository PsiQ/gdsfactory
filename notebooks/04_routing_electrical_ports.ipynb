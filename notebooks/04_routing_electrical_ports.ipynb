{
 "cells": [
  {
   "cell_type": "markdown",
   "metadata": {},
   "source": [
    "# Route electrical ports"
   ]
  },
  {
   "cell_type": "code",
   "execution_count": null,
   "metadata": {},
   "outputs": [],
   "source": [
    "import pp\n",
    "\n",
    "mzi = pp.c.mzi2x2(with_elec_connections=True)\n",
    "pp.qp(mzi)"
   ]
  },
  {
   "cell_type": "code",
   "execution_count": null,
   "metadata": {},
   "outputs": [],
   "source": [
    "pp.c.pad_array?"
   ]
  },
  {
   "cell_type": "code",
   "execution_count": null,
   "metadata": {},
   "outputs": [],
   "source": [
    "pads = pp.c.pad_array(n=3, port_list=[\"S\"])"
   ]
  },
  {
   "cell_type": "code",
   "execution_count": null,
   "metadata": {},
   "outputs": [],
   "source": [
    "pp.routing.link_electrical_ports?"
   ]
  },
  {
   "cell_type": "code",
   "execution_count": null,
   "metadata": {},
   "outputs": [],
   "source": [
    "c = pp.Component(\"mzi_with_pads\")\n",
    "p = c << pads\n",
    "c << mzi\n",
    "\n",
    "p.move((-150, 300))\n",
    "pp.qp(c)"
   ]
  },
  {
   "cell_type": "code",
   "execution_count": null,
   "metadata": {},
   "outputs": [],
   "source": [
    "routes = pp.routing.link_electrical_ports(\n",
    "    list(p.ports.values()), mzi.get_ports_list(port_type='dc')\n",
    ")"
   ]
  },
  {
   "cell_type": "code",
   "execution_count": null,
   "metadata": {},
   "outputs": [],
   "source": [
    "c.add(routes)\n",
    "pp.qp(c)\n",
    "pp.show(c)"
   ]
  },
  {
   "cell_type": "code",
   "execution_count": null,
   "metadata": {},
   "outputs": [],
   "source": [
    "c = pp.Component(\"mzi_with_pads\")\n",
    "p = c << pads\n",
    "c << mzi\n",
    "\n",
    "p.move((-150, 300))\n",
    "pp.qp(c)"
   ]
  },
  {
   "cell_type": "code",
   "execution_count": null,
   "metadata": {},
   "outputs": [],
   "source": [
    "from pp.routing.connect import connect_elec_waypoints\n",
    "\n",
    "routes = pp.routing.connect_bundle(\n",
    "    list(p.ports.values()),\n",
    "    mzi.get_ports_list(port_type='dc'),\n",
    "    route_filter=connect_elec_waypoints,\n",
    "    bend_radius=10,\n",
    ")"
   ]
  },
  {
   "cell_type": "code",
   "execution_count": null,
   "metadata": {},
   "outputs": [],
   "source": [
    "pp.qp(routes)"
   ]
  },
  {
   "cell_type": "code",
   "execution_count": null,
   "metadata": {},
   "outputs": [],
   "source": [
    "import pp\n",
    "\n",
    "c = pp.c.mzi2x2(with_elec_connections=True)\n",
    "cc = pp.routing.add_electrical_pads_top(c)\n",
    "pp.show(cc)\n",
    "pp.qp(cc)"
   ]
  },
  {
   "cell_type": "code",
   "execution_count": null,
   "metadata": {},
   "outputs": [],
   "source": [
    "import pp\n",
    "\n",
    "c = pp.c.mzi2x2(with_elec_connections=True)\n",
    "cc = pp.routing.add_electrical_pads_shortest(c)\n",
    "pp.show(cc)\n",
    "pp.qp(cc)"
   ]
  },
  {
   "cell_type": "code",
   "execution_count": null,
   "metadata": {},
   "outputs": [],
   "source": [
    "import pp\n",
    "\n",
    "c = pp.c.mzi2x2(with_elec_connections=True, cache=False)\n",
    "cc = pp.routing.add_electrical_pads(c, fanout_length=100)\n",
    "pp.show(cc)\n",
    "pp.qp(cc)"
   ]
  },
  {
   "cell_type": "code",
   "execution_count": null,
   "metadata": {},
   "outputs": [],
   "source": [
    "import pp\n",
    "\n",
    "c = pp.c.cross(length=100, layer=pp.LAYER.M3, port_type=\"dc\")\n",
    "c.move((20, 50))\n",
    "cc = pp.routing.add_electrical_pads_shortest(c)\n",
    "pp.show(cc)\n",
    "pp.qp(cc)"
   ]
  },
  {
   "cell_type": "code",
   "execution_count": null,
   "metadata": {},
   "outputs": [],
   "source": []
  }
 ],
 "metadata": {
  "kernelspec": {
   "display_name": "Python 3",
   "language": "python",
   "name": "python3"
  },
  "language_info": {
   "codemirror_mode": {
    "name": "ipython",
    "version": 3
   },
   "file_extension": ".py",
   "mimetype": "text/x-python",
   "name": "python",
   "nbconvert_exporter": "python",
   "pygments_lexer": "ipython3",
   "version": "3.8.3"
  }
 },
 "nbformat": 4,
 "nbformat_minor": 4
}
