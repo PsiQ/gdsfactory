{
 "cells": [
  {
   "cell_type": "markdown",
   "metadata": {},
   "source": [
    "# Circuit simulations\n",
    "\n",
    "`get_netlist()` returns a dict with all the instance settings and connections for a Component\n",
    "\n",
    "There is another repo [gdslib](https://github.com/gdsfactory/gdslib) that stores all gdsfactory Sparameters (from Lumerical 3D FDTD simulations) and compact models (from [SiPANN library](https://sipann.readthedocs.io/en/latest/)) and allows you to do circuit simulations with [Simphony](https://github.com/BYUCamachoLab/simphony)\n",
    "\n",
    "## MZI"
   ]
  },
  {
   "cell_type": "code",
   "execution_count": null,
   "metadata": {
    "attributes": {
     "classes": [],
     "id": "",
     "n": "1"
    }
   },
   "outputs": [],
   "source": [
    "import pp\n",
    "import gdslib as gl\n",
    "from simphony.netlist import Subcircuit\n",
    "\n",
    "delta_length = 10\n",
    "DL = delta_length/2\n",
    "c = pp.c.mzi(DL=DL) \n",
    "pp.qp(c)\n",
    "\n",
    "n = c.get_netlist()"
   ]
  },
  {
   "cell_type": "markdown",
   "metadata": {},
   "source": [
    "`gdslib` has also an MZI model. However we can make sure we get the exact cells from the component"
   ]
  },
  {
   "cell_type": "code",
   "execution_count": null,
   "metadata": {},
   "outputs": [],
   "source": [
    "m = gl.components.mzi(DL=DL)\n",
    "gl.plot_circuit(m)"
   ]
  },
  {
   "cell_type": "markdown",
   "metadata": {},
   "source": [
    "In this first case we are going to use Sparameters from Lumerical simulations stored in gdslib.\n",
    "Some simulations (such as waveguides with different lengths and bends with 10um bend radius) may be missing so we ignore all the settings and will use the defaults (bends with `radius = 5` and waveguides with `length = 10`"
   ]
  },
  {
   "cell_type": "code",
   "execution_count": null,
   "metadata": {},
   "outputs": [],
   "source": [
    "component = pp.c.mzi()\n",
    "circuit = Subcircuit(component.name)\n",
    "n = component.get_netlist()\n",
    "\n",
    "model_name_tuple = []\n",
    "for i in n.instances.keys():\n",
    "    component_type = n.instances[i]['component']\n",
    "    component_settings = n.instances[i]['settings']\n",
    "    c = pp.c.component_type2factory[component_type]() # ignore settings\n",
    "    #c = pp.c.component_type2factory[component_type](**component_settings) # needs fix\n",
    "    model = gl.model_from_gdsfactory(c)\n",
    "    model_name_tuple.append((model, i))\n",
    "    \n",
    "e = circuit.add(model_name_tuple)\n",
    "\n",
    "for k, v in n.connections.items():\n",
    "    c1, p1 = k.split(',')\n",
    "    c2, p2 = v.split(',')\n",
    "    circuit.connect(c1, p1, c2, p2)\n",
    "\n",
    "circuit.elements[\"mmi1x2_12_0\"].pins[\"W0\"] = \"input\"\n",
    "circuit.elements[\"mmi1x2_88_0\"].pins[\"W0\"] = \"output\"\n",
    "\n",
    "gl.plot_circuit(circuit)"
   ]
  },
  {
   "cell_type": "markdown",
   "metadata": {},
   "source": [
    "It is hard to capture all possible variations by doing lots of lumerical simulations. That is why component Compact models from `gdslib` are powerful. "
   ]
  },
  {
   "cell_type": "code",
   "execution_count": null,
   "metadata": {},
   "outputs": [],
   "source": [
    "component = pp.c.mzi()\n",
    "circuit = Subcircuit(component.name)\n",
    "n = component.get_netlist()\n",
    "\n",
    "model_name_tuple = []\n",
    "for i in n.instances.keys():\n",
    "    component_type = n.instances[i]['component']\n",
    "    component_settings = n.instances[i]['settings']\n",
    "    model = gl.component_type2factory[component_type](**component_settings)\n",
    "    model_name_tuple.append((model, i))\n",
    "    \n",
    "e = circuit.add(model_name_tuple)\n",
    "\n",
    "for k, v in n.connections.items():\n",
    "    c1, p1 = k.split(',')\n",
    "    c2, p2 = v.split(',')\n",
    "    circuit.connect(c1, p1, c2, p2)\n",
    "\n",
    "circuit.elements[\"mmi1x2_12_0\"].pins[\"W0\"] = \"input\"\n",
    "circuit.elements[\"mmi1x2_88_0\"].pins[\"W0\"] = \"output\"\n",
    "\n",
    "gl.plot_circuit(circuit)"
   ]
  },
  {
   "cell_type": "code",
   "execution_count": null,
   "metadata": {},
   "outputs": [],
   "source": [
    "delta_length = 100\n",
    "DL = delta_length/2\n",
    "c = pp.c.mzi(DL=DL) \n",
    "pp.qp(c)"
   ]
  },
  {
   "cell_type": "code",
   "execution_count": null,
   "metadata": {},
   "outputs": [],
   "source": [
    "m = gl.circuit_from_gdsfactory(c)\n",
    "m.elements[\"mmi1x2_12_0\"].pins[\"W0\"] = \"input\"\n",
    "m.elements[\"mmi1x2_88_0\"].pins[\"W0\"] = \"output\""
   ]
  },
  {
   "cell_type": "code",
   "execution_count": null,
   "metadata": {},
   "outputs": [],
   "source": [
    "gl.plot_circuit(m)"
   ]
  },
  {
   "cell_type": "code",
   "execution_count": null,
   "metadata": {},
   "outputs": [],
   "source": [
    "for e in m.elements:\n",
    "    print(e)"
   ]
  },
  {
   "cell_type": "markdown",
   "metadata": {},
   "source": [
    "## Ring resonator\n",
    "\n",
    "This is work in progress and still has some issues. FIXME!"
   ]
  },
  {
   "cell_type": "code",
   "execution_count": null,
   "metadata": {},
   "outputs": [],
   "source": [
    "import pp\n",
    "import gdslib as gl\n",
    "from simphony.netlist import Subcircuit\n",
    "\n",
    "c = pp.c.ring_single(length_x=4, gap=0.2, bend_radius=5)\n",
    "pp.qp(c)\n",
    "m = gl.circuit_from_gdsfactory(c)"
   ]
  },
  {
   "cell_type": "code",
   "execution_count": null,
   "metadata": {},
   "outputs": [],
   "source": [
    "for e in m.elements:\n",
    "    print(e)"
   ]
  },
  {
   "cell_type": "code",
   "execution_count": null,
   "metadata": {},
   "outputs": [],
   "source": [
    "m = gl.circuit_from_gdsfactory(c)\n",
    "m.elements[\"coupler_ring_05cda304_-2_1\"].pins[\"W0\"] = \"input\"\n",
    "m.elements[\"coupler_ring_05cda304_-2_1\"].pins[\"E0\"] = \"output\"\n",
    "gl.plot_circuit(m)"
   ]
  },
  {
   "cell_type": "code",
   "execution_count": null,
   "metadata": {},
   "outputs": [],
   "source": [
    "component = c\n",
    "circuit = Subcircuit(component.name)\n",
    "n = component.get_netlist()\n",
    "\n",
    "model_name_tuple = []\n",
    "for i in n.instances.keys():\n",
    "    component_type = n.instances[i]['component']\n",
    "    component_settings = n.instances[i]['settings']\n",
    "    print(component_type, component_settings)\n",
    "    model = gl.component_type2factory[component_type](**component_settings)\n",
    "    model_name_tuple.append((model, i))\n",
    "    \n",
    "e = circuit.add(model_name_tuple)\n",
    "\n",
    "for k, v in n.connections.items():\n",
    "    c1, p1 = k.split(',')\n",
    "    c2, p2 = v.split(',')\n",
    "    circuit.connect(c1, p1, c2, p2)\n",
    "\n",
    "circuit.elements[\"coupler_ring_05cda304_-2_1\"].pins[\"W0\"] = \"input\"\n",
    "circuit.elements[\"coupler_ring_05cda304_-2_1\"].pins[\"E0\"] = \"output\"\n",
    "gl.plot_circuit(circuit)"
   ]
  },
  {
   "cell_type": "code",
   "execution_count": null,
   "metadata": {},
   "outputs": [],
   "source": [
    "import matplotlib.pyplot as plt\n",
    "\n",
    "for e in m.elements:\n",
    "    continue\n",
    "    plt.figure()\n",
    "    plt.title(e)\n",
    "    gl.plot_model(e.model)"
   ]
  },
  {
   "cell_type": "code",
   "execution_count": null,
   "metadata": {},
   "outputs": [],
   "source": [
    "print(n.connections.pretty())"
   ]
  },
  {
   "cell_type": "code",
   "execution_count": null,
   "metadata": {},
   "outputs": [],
   "source": [
    "import pp\n",
    "import gdslib as gl\n",
    "from simphony.netlist import Subcircuit\n",
    "#from pp.config import connections\n",
    "\n",
    "#connections.clear()\n",
    "c = pp.c.ring_double(length_y=10)\n",
    "m = gl.circuit_from_gdsfactory(c)"
   ]
  },
  {
   "cell_type": "code",
   "execution_count": null,
   "metadata": {},
   "outputs": [],
   "source": [
    "for e in m.elements:\n",
    "    print(e)"
   ]
  },
  {
   "cell_type": "code",
   "execution_count": null,
   "metadata": {},
   "outputs": [],
   "source": [
    "from pp.config import connections\n",
    "connections"
   ]
  },
  {
   "cell_type": "code",
   "execution_count": null,
   "metadata": {},
   "outputs": [],
   "source": [
    "m.elements[\"coupler_ring_8a8f8eb7_-2_1\"].pins[\"W0\"] = \"input\"\n",
    "m.elements[\"coupler_ring_8a8f8eb7_-2_1\"].pins[\"E0\"] = \"output\"\n",
    "gl.plot_circuit(m)"
   ]
  },
  {
   "cell_type": "code",
   "execution_count": null,
   "metadata": {},
   "outputs": [],
   "source": [
    "m.netlist.nets"
   ]
  },
  {
   "cell_type": "code",
   "execution_count": null,
   "metadata": {},
   "outputs": [],
   "source": []
  }
 ],
 "metadata": {
  "kernelspec": {
   "display_name": "Python 3",
   "language": "python",
   "name": "python3"
  },
  "language_info": {
   "codemirror_mode": {
    "name": "ipython",
    "version": 3
   },
   "file_extension": ".py",
   "mimetype": "text/x-python",
   "name": "python",
   "nbconvert_exporter": "python",
   "pygments_lexer": "ipython3",
   "version": "3.7.7"
  }
 },
 "nbformat": 4,
 "nbformat_minor": 4
}
