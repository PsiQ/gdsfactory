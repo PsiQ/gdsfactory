{
 "cells": [
  {
   "cell_type": "markdown",
   "metadata": {},
   "source": [
    "# YAML component connections\n",
    "\n",
    "\n",
    "We can define the netlist connections of a component by a netlist in YAML format\n",
    "\n",
    "Note that you define the connections as `instance_source.port ->\n",
    "instance_destination.port` so the order is important and therefore you can only\n",
    "change the position of the `instance_destination`\n",
    "\n",
    "For example, this coupler has the center coupling region at (100, 0)"
   ]
  },
  {
   "cell_type": "code",
   "execution_count": null,
   "metadata": {
    "attributes": {
     "classes": [],
     "id": "",
     "n": "5"
    }
   },
   "outputs": [],
   "source": [
    "import pp\n",
    "\n",
    "gap = 0.2\n",
    "wg_width = 0.5\n",
    "length = 10\n",
    "\n",
    "yaml = f\"\"\"\n",
    "instances:\n",
    "    sl:\n",
    "      component: coupler_symmetric\n",
    "      settings:\n",
    "        gap: {gap}\n",
    "        wg_width: {wg_width}\n",
    "    sr:\n",
    "      component: coupler_symmetric\n",
    "      settings:\n",
    "        gap: {gap}\n",
    "        wg_width: {wg_width}\n",
    "    cs:\n",
    "      component: coupler_straight\n",
    "      settings:\n",
    "        gap: {gap}\n",
    "        width: {wg_width}\n",
    "        length: {length}\n",
    "\n",
    "placements:\n",
    "    cs:\n",
    "        x: 100\n",
    "        y: 0\n",
    "\n",
    "connections:\n",
    "    sl,W0: cs,W0\n",
    "    sr,W0: cs,E0\n",
    "\n",
    "ports:\n",
    "    w0: sl,E0\n",
    "    w1: sl,E1\n",
    "    e0: sr,E0\n",
    "    e1: sr,E1\n",
    "\n",
    "\"\"\"\n",
    "\n",
    "c = pp.component_from_yaml(yaml)\n",
    "pp.show(c)\n",
    "pp.plotgds(c)"
   ]
  },
  {
   "cell_type": "markdown",
   "metadata": {},
   "source": [
    "While this one has the sbend_left_coupler `sl` centered at (100, 0)"
   ]
  },
  {
   "cell_type": "code",
   "execution_count": null,
   "metadata": {},
   "outputs": [],
   "source": [
    "gap = 0.2\n",
    "wg_width = 0.5\n",
    "length = 10\n",
    "\n",
    "yaml = f\"\"\"\n",
    "instances:\n",
    "    sl:\n",
    "      component: coupler_symmetric\n",
    "      settings:\n",
    "        gap: {gap}\n",
    "        wg_width: {wg_width}\n",
    "    sr:\n",
    "      component: coupler_symmetric\n",
    "      settings:\n",
    "        gap: {gap}\n",
    "        wg_width: {wg_width}\n",
    "    cs:\n",
    "      component: coupler_straight\n",
    "      settings:\n",
    "        gap: {gap}\n",
    "        width: {wg_width}\n",
    "        length: {length}\n",
    "\n",
    "placements:\n",
    "    sl:\n",
    "        x: 100\n",
    "        y: 0\n",
    "        rotation: 180\n",
    "\n",
    "connections:\n",
    "    cs,W0: sl,W0\n",
    "    sr,W0: cs,E0\n",
    "\n",
    "ports:\n",
    "    w0: sl,E0\n",
    "    w1: sl,E1\n",
    "    e0: sr,E0\n",
    "    e1: sr,E1\n",
    "\n",
    "\"\"\"\n",
    "\n",
    "c = pp.component_from_yaml(yaml)\n",
    "pp.show(c)\n",
    "pp.plotgds(c)"
   ]
  },
  {
   "cell_type": "code",
   "execution_count": null,
   "metadata": {},
   "outputs": [],
   "source": [
    "import pp\n",
    "\n",
    "yaml = \"\"\"\n",
    "instances:\n",
    "    mmi_long:\n",
    "      component: mmi1x2\n",
    "      settings:\n",
    "        width_mmi: 4.5\n",
    "        length_mmi: 10\n",
    "    mmi_short:\n",
    "      component: mmi1x2\n",
    "      settings:\n",
    "        width_mmi: 4.5\n",
    "        length_mmi: 5\n",
    "placements:        \n",
    "    mmi_long:\n",
    "        x: 100\n",
    "        y: 100\n",
    "\"\"\"\n",
    "\n",
    "\n",
    "c = pp.component_from_yaml(yaml)\n",
    "pp.show(c)\n",
    "pp.plotgds(c)"
   ]
  },
  {
   "cell_type": "code",
   "execution_count": null,
   "metadata": {},
   "outputs": [],
   "source": [
    "import pp\n",
    "\n",
    "yaml = \"\"\"\n",
    "instances:\n",
    "    mmi_long:\n",
    "      component: mmi1x2\n",
    "      settings:\n",
    "        width_mmi: 4.5\n",
    "        length_mmi: 10\n",
    "    mmi_short:\n",
    "      component: mmi1x2\n",
    "      settings:\n",
    "        width_mmi: 4.5\n",
    "        length_mmi: 5\n",
    "placements:\n",
    "    mmi_long:\n",
    "        x: 100\n",
    "        y: 100\n",
    "routes:\n",
    "    mmi_short,E1: mmi_long,W0\n",
    "\"\"\"\n",
    "\n",
    "\n",
    "c = pp.component_from_yaml(yaml)\n",
    "pp.show(c)\n",
    "pp.plotgds(c)"
   ]
  },
  {
   "cell_type": "markdown",
   "metadata": {},
   "source": [
    "You can **rotate** and instance specifying the angle in degrees"
   ]
  },
  {
   "cell_type": "code",
   "execution_count": null,
   "metadata": {},
   "outputs": [],
   "source": [
    "import pp\n",
    "\n",
    "yaml = \"\"\"\n",
    "instances:\n",
    "    mmi_long:\n",
    "      component: mmi1x2\n",
    "      settings:\n",
    "        width_mmi: 4.5\n",
    "        length_mmi: 10\n",
    "    mmi_short:\n",
    "      component: mmi1x2\n",
    "      settings:\n",
    "        width_mmi: 4.5\n",
    "        length_mmi: 5\n",
    "        \n",
    "placements:\n",
    "    mmi_long:\n",
    "        rotation: 180\n",
    "        x: 100\n",
    "        y: 100\n",
    "routes:\n",
    "    mmi_short,E1: mmi_long,E0\n",
    "\"\"\"\n",
    "\n",
    "\n",
    "c = pp.component_from_yaml(yaml)\n",
    "pp.show(c)\n",
    "pp.plotgds(c)"
   ]
  },
  {
   "cell_type": "markdown",
   "metadata": {},
   "source": [
    "You can also define ports for the component"
   ]
  },
  {
   "cell_type": "code",
   "execution_count": null,
   "metadata": {},
   "outputs": [],
   "source": [
    "import pp\n",
    "\n",
    "yaml = \"\"\"\n",
    "instances:\n",
    "    mmi_long:\n",
    "      component: mmi1x2\n",
    "      settings:\n",
    "        width_mmi: 4.5\n",
    "        length_mmi: 10\n",
    "    mmi_short:\n",
    "      component: mmi1x2\n",
    "      settings:\n",
    "        width_mmi: 4.5\n",
    "        length_mmi: 5\n",
    "        \n",
    "placements:\n",
    "    mmi_long:\n",
    "        rotation: 180\n",
    "        x: 100\n",
    "        y: 100\n",
    "        \n",
    "routes:\n",
    "    mmi_short,E1: mmi_long,E0\n",
    "    \n",
    "ports:\n",
    "    E0: mmi_short,W0\n",
    "    W0: mmi_long,W0\n",
    "\"\"\"\n",
    "\n",
    "c = pp.component_from_yaml(yaml)\n",
    "pp.show(c)\n",
    "pp.plotgds(c)"
   ]
  },
  {
   "cell_type": "code",
   "execution_count": null,
   "metadata": {},
   "outputs": [],
   "source": [
    "r = c.routes['mmi_short,E1:mmi_long,E0']\n",
    "r"
   ]
  },
  {
   "cell_type": "code",
   "execution_count": null,
   "metadata": {},
   "outputs": [],
   "source": [
    "r.parent.length"
   ]
  },
  {
   "cell_type": "code",
   "execution_count": null,
   "metadata": {},
   "outputs": [],
   "source": [
    "c.instances"
   ]
  },
  {
   "cell_type": "code",
   "execution_count": null,
   "metadata": {},
   "outputs": [],
   "source": [
    "c.routes"
   ]
  },
  {
   "cell_type": "code",
   "execution_count": null,
   "metadata": {},
   "outputs": [],
   "source": []
  }
 ],
 "metadata": {
  "kernelspec": {
   "display_name": "Python 3",
   "language": "python",
   "name": "python3"
  },
  "language_info": {
   "codemirror_mode": {
    "name": "ipython",
    "version": 3
   },
   "file_extension": ".py",
   "mimetype": "text/x-python",
   "name": "python",
   "nbconvert_exporter": "python",
   "pygments_lexer": "ipython3",
   "version": "3.7.7"
  }
 },
 "nbformat": 4,
 "nbformat_minor": 4
}
