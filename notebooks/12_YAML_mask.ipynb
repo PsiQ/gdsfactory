{
 "cells": [
  {
   "cell_type": "markdown",
   "metadata": {},
   "source": [
    "# Write a Mask from YAML file\n",
    "\n",
    "We can also a set of Design Of Experiments in a YAML file together with placing information"
   ]
  },
  {
   "cell_type": "code",
   "execution_count": null,
   "metadata": {
    "attributes": {
     "classes": [],
     "id": "",
     "n": "1"
    }
   },
   "outputs": [],
   "source": [
    "\n",
    "import pathlib\n",
    "import pytest\n",
    "import pp\n",
    "\n",
    "from pp.autoplacer.yaml_placer import place_from_yaml\n",
    "from pp.generate_does import generate_does\n",
    "from pp.mask.merge_metadata import merge_metadata\n",
    "\n",
    "\n",
    "def test_mask():\n",
    "    \"\"\"\n",
    "    \"\"\"\n",
    "    cwd = pathlib.Path().cwd()\n",
    "    does_path = cwd / \"does.yml\"\n",
    "\n",
    "    doe_root_path = cwd / \"build\" / \"cache_doe_directory\"\n",
    "    mask_path = cwd / \"build\" / \"mask\"\n",
    "    gdspath = mask_path / \"mask.gds\"\n",
    "    mask_path.mkdir(parents=True, exist_ok=True)\n",
    "\n",
    "    generate_does(\n",
    "        str(does_path), doe_root_path=doe_root_path,\n",
    "    )\n",
    "    top_level = place_from_yaml(does_path, root_does=doe_root_path)\n",
    "    top_level.write(str(gdspath))\n",
    "    merge_metadata(gdspath)\n",
    "    assert gdspath.exists()\n",
    "    return gdspath\n",
    "\n",
    "\n",
    "c = test_mask()\n",
    "pp.show(c)\n",
    "pp.plotgds(c)\n"
   ]
  }
 ],
 "metadata": {},
 "nbformat": 4,
 "nbformat_minor": 4
}
