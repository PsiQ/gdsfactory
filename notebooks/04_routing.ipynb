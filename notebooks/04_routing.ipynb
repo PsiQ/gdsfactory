{
 "cells": [
  {
   "cell_type": "markdown",
   "metadata": {},
   "source": [
    "# Routing\n",
    "\n",
    "Routing allows you to define routes between component ports\n"
   ]
  },
  {
   "cell_type": "code",
   "execution_count": null,
   "metadata": {},
   "outputs": [],
   "source": [
    "import pp"
   ]
  },
  {
   "cell_type": "code",
   "execution_count": null,
   "metadata": {},
   "outputs": [],
   "source": [
    "c = pp.Component()\n",
    "mmi1 = c << pp.c.mmi1x2()\n",
    "mmi2 = c << pp.c.mmi1x2()\n",
    "mmi2.move((100, 50))\n",
    "pp.qp(c)"
   ]
  },
  {
   "cell_type": "markdown",
   "metadata": {},
   "source": [
    "# Connect strip\n",
    "\n",
    "Connect strip connects using Manhattan routing"
   ]
  },
  {
   "cell_type": "code",
   "execution_count": null,
   "metadata": {},
   "outputs": [],
   "source": [
    "from pp.routing.connect import connect_strip, connect_strip_way_points"
   ]
  },
  {
   "cell_type": "code",
   "execution_count": null,
   "metadata": {},
   "outputs": [],
   "source": [
    "connect_strip?"
   ]
  },
  {
   "cell_type": "code",
   "execution_count": null,
   "metadata": {},
   "outputs": [],
   "source": [
    "r = connect_strip(mmi1.ports['E1'], mmi2.ports['W0'])"
   ]
  },
  {
   "cell_type": "code",
   "execution_count": null,
   "metadata": {},
   "outputs": [],
   "source": [
    "c.add(r)"
   ]
  },
  {
   "cell_type": "code",
   "execution_count": null,
   "metadata": {},
   "outputs": [],
   "source": [
    "pp.qp(c)"
   ]
  },
  {
   "cell_type": "markdown",
   "metadata": {},
   "source": [
    "# Connect strip points\n",
    "\n",
    "You can also specify the points along the route"
   ]
  },
  {
   "cell_type": "code",
   "execution_count": null,
   "metadata": {},
   "outputs": [],
   "source": [
    "connect_strip_way_points?"
   ]
  },
  {
   "cell_type": "code",
   "execution_count": null,
   "metadata": {},
   "outputs": [],
   "source": [
    "c = pp.Component()\n",
    "mmi1 = c << pp.c.mmi1x2()\n",
    "mmi2 = c << pp.c.mmi1x2()\n",
    "mmi2.move((100, 50))\n",
    "\n",
    "x0 = mmi1.ports['E0'].x\n",
    "y0 = mmi1.ports['E0'].y\n",
    "\n",
    "\n",
    "x2 = mmi2.ports['E0'].x\n",
    "y2 = mmi2.ports['E0'].y\n",
    "\n",
    "r2 = connect_strip_way_points([(x0, y0),  (x2+40, y0), (x2+40, y2), (x2, y2)])\n",
    "c.add(r2)\n",
    "pp.qp(c)\n",
    "pp.show(c)"
   ]
  },
  {
   "cell_type": "code",
   "execution_count": null,
   "metadata": {},
   "outputs": [],
   "source": []
  }
 ],
 "metadata": {
  "kernelspec": {
   "display_name": "Python 3",
   "language": "python",
   "name": "python3"
  },
  "language_info": {
   "codemirror_mode": {
    "name": "ipython",
    "version": 3
   },
   "file_extension": ".py",
   "mimetype": "text/x-python",
   "name": "python",
   "nbconvert_exporter": "python",
   "pygments_lexer": "ipython3",
   "version": "3.7.7"
  }
 },
 "nbformat": 4,
 "nbformat_minor": 2
}
