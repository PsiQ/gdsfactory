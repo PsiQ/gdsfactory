{
 "cells": [
  {
   "cell_type": "markdown",
   "metadata": {},
   "source": [
    "# Components\n",
    "\n",
    "We store our component functions inside the `pp.components` module. Each\n",
    "function there returns a Component object\n",
    "\n",
    "You can use `dir` or `help` over the `pp.c` module to see the all available\n",
    "components.\n",
    "\n",
    "Some of which are just shapes, but we call them components as they all inherit\n",
    "from the component class in `pp.Component`"
   ]
  },
  {
   "cell_type": "code",
   "execution_count": null,
   "metadata": {},
   "outputs": [],
   "source": [
    "import pp"
   ]
  },
  {
   "cell_type": "code",
   "execution_count": null,
   "metadata": {},
   "outputs": [],
   "source": [
    "c = pp.c.mzi()\n",
    "pp.qp(c)"
   ]
  },
  {
   "cell_type": "code",
   "execution_count": null,
   "metadata": {},
   "outputs": [],
   "source": [
    "c.ports"
   ]
  },
  {
   "cell_type": "code",
   "execution_count": null,
   "metadata": {},
   "outputs": [],
   "source": [
    "c = pp.c.ring_single_bus()\n",
    "pp.qp(c)"
   ]
  },
  {
   "cell_type": "markdown",
   "metadata": {},
   "source": [
    "# Phidl components\n",
    "\n",
    "Gdsfactory extends phidl. Therefore all phidl components can be easily used in gdsfactory."
   ]
  },
  {
   "cell_type": "code",
   "execution_count": null,
   "metadata": {},
   "outputs": [],
   "source": [
    "import phidl.geometry as pg"
   ]
  },
  {
   "cell_type": "code",
   "execution_count": null,
   "metadata": {},
   "outputs": [],
   "source": [
    "components = [\n",
    "    pg.tee(size = (4,2), stub_size = (2,1), taper_type = None, layer = 0),\n",
    "    pg.optimal_hairpin(width = 0.2, pitch = 0.6, length = 10, turn_ratio = 4, num_pts = 50, layer = 0),\n",
    "    pg.optimal_step(start_width = 10, end_width = 22, num_pts = 50, width_tol = 1e-3, anticrowding_factor = 1.2, symmetric = False, layer = 0),\n",
    "    pg.optimal_90deg(width = 100.0, num_pts = 15, length_adjust = 1, layer = 0),\n",
    "    pg.ytron_round(rho = 1, arm_lengths = (500,300),  source_length = 500, arm_widths = (200, 200), theta = 2.5, theta_resolution = 10, layer = 0)\n",
    "]\n",
    "\n",
    "for c in components:\n",
    "    pp.qp(c)\n",
    "    c2 = pp.import_phidl_component(component=c)\n",
    "    pp.show(c2)"
   ]
  },
  {
   "cell_type": "markdown",
   "metadata": {},
   "source": [
    "You can see all the components available in `gdsfactory`"
   ]
  },
  {
   "cell_type": "code",
   "execution_count": null,
   "metadata": {},
   "outputs": [],
   "source": [
    "help(pp.c)"
   ]
  }
 ],
 "metadata": {
  "kernelspec": {
   "display_name": "Python 3",
   "language": "python",
   "name": "python3"
  },
  "language_info": {
   "codemirror_mode": {
    "name": "ipython",
    "version": 3
   },
   "file_extension": ".py",
   "mimetype": "text/x-python",
   "name": "python",
   "nbconvert_exporter": "python",
   "pygments_lexer": "ipython3",
   "version": "3.7.7"
  }
 },
 "nbformat": 4,
 "nbformat_minor": 4
}
