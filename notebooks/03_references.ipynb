{
 "cells": [
  {
   "cell_type": "markdown",
   "metadata": {},
   "source": [
    "# References\n",
    "\n",
    "GDS allows defining the component once in memory and reference to that structure in other components.\n"
   ]
  },
  {
   "cell_type": "code",
   "execution_count": null,
   "metadata": {},
   "outputs": [],
   "source": [
    "from IPython.display import Image\n",
    "Image(\"../docs/images/gds.png\")"
   ]
  },
  {
   "cell_type": "markdown",
   "metadata": {},
   "source": [
    "## Adding a component reference\n",
    "\n",
    "As we build complex circuit we'll make circuits that combine reference to other simpler circuits. Adding a reference is like having a pointer to the other devices."
   ]
  },
  {
   "cell_type": "code",
   "execution_count": null,
   "metadata": {},
   "outputs": [],
   "source": [
    "import pp"
   ]
  },
  {
   "cell_type": "markdown",
   "metadata": {},
   "source": [
    "We have two ways to add a reference to our device:\n",
    "\n",
    "1. create the reference and add it to the component"
   ]
  },
  {
   "cell_type": "code",
   "execution_count": null,
   "metadata": {},
   "outputs": [],
   "source": [
    "c = pp.Component()\n",
    "w = pp.c.waveguide(width=0.6)\n",
    "wr = w.ref()\n",
    "c.add(wr)\n",
    "pp.qp(c)"
   ]
  },
  {
   "cell_type": "markdown",
   "metadata": {},
   "source": [
    "2. or we can do it in a single line (my preference)"
   ]
  },
  {
   "cell_type": "code",
   "execution_count": null,
   "metadata": {},
   "outputs": [],
   "source": [
    "c = pp.Component()\n",
    "wr = c << pp.c.waveguide(width=0.6)\n",
    "pp.qp(c)"
   ]
  },
  {
   "cell_type": "markdown",
   "metadata": {},
   "source": [
    "in both cases we can move the reference `wr` after created"
   ]
  },
  {
   "cell_type": "code",
   "execution_count": null,
   "metadata": {},
   "outputs": [],
   "source": [
    "c = pp.Component()\n",
    "wr1 = c << pp.c.waveguide(width=0.6)\n",
    "wr2 = c << pp.c.waveguide(width=0.6)\n",
    "wr2.movey(10)\n",
    "pp.qp(c)"
   ]
  },
  {
   "cell_type": "markdown",
   "metadata": {},
   "source": [
    "# Adding a reference array\n",
    "\n",
    "We can also add an array of references for periodic structures. Lets create a [Distributed Bragg Reflector](https://picwriter.readthedocs.io/en/latest/components/dbr.html)\n",
    "\n",
    "\n",
    "As PHIDL tutorial says, in GDS, there's a type of structure called a \"CellArray\" which takes a cell and repeats it NxM times on a fixed grid spacing. For convenience, PHIDL includes this functionality with the add_array() function.  Note that CellArrays are not compatible with ports (since there is no way to access/modify individual elements in a GDS cellarray) "
   ]
  },
  {
   "cell_type": "code",
   "execution_count": null,
   "metadata": {},
   "outputs": [],
   "source": [
    "@pp.autoname\n",
    "def dbr_cell(w1=0.5, w2=0.6, l1=0.2, l2=0.4, waveguide_function=pp.c.waveguide):\n",
    "    c = pp.Component()\n",
    "    c1 = c << waveguide_function(length=l1, width=w1)\n",
    "    c2 = c << waveguide_function(length=l2, width=w2)\n",
    "    c2.connect(port=\"W0\", destination=c1.ports[\"E0\"])\n",
    "    c.add_port(\"W0\", port=c1.ports[\"W0\"])\n",
    "    c.add_port(\"E0\", port=c2.ports[\"E0\"])\n",
    "    return c\n",
    "\n",
    "\n",
    "w1 = 0.5\n",
    "w2 = 0.6\n",
    "l1 = 0.2\n",
    "l2 = 0.4\n",
    "n = 3\n",
    "waveguide_function = pp.c.waveguide\n",
    "c = pp.Component()\n",
    "cell = dbr_cell(w1=w1, w2=w2, l1=l1, l2=l2, waveguide_function=waveguide_function)\n",
    "pp.qp(cell)"
   ]
  },
  {
   "cell_type": "code",
   "execution_count": null,
   "metadata": {},
   "outputs": [],
   "source": [
    "cell_array = c.add_array(device=cell, columns=n, rows=1, spacing=(l1 + l2, 100))"
   ]
  },
  {
   "cell_type": "code",
   "execution_count": null,
   "metadata": {},
   "outputs": [],
   "source": [
    "pp.qp(c)"
   ]
  },
  {
   "cell_type": "markdown",
   "metadata": {},
   "source": [
    "Finally we need to add ports to the new component"
   ]
  },
  {
   "cell_type": "code",
   "execution_count": null,
   "metadata": {},
   "outputs": [],
   "source": [
    "p0 = c.add_port(\"W0\", port=cell.ports[\"W0\"])\n",
    "p1 = c.add_port(\"E0\", port=cell.ports[\"E0\"])\n",
    "p1.midpoint = [(l1 + l2) * n, 0]"
   ]
  },
  {
   "cell_type": "code",
   "execution_count": null,
   "metadata": {},
   "outputs": [],
   "source": [
    "pp.qp(c)"
   ]
  },
  {
   "cell_type": "markdown",
   "metadata": {},
   "source": [
    "# Connecting references\n",
    "\n",
    "## connect\n",
    "\n",
    "We have seen that once you create a reference you can manipulate the reference to move it to a location. Here we are going to connect that reference to a port. Remeber that we follow that a certain reference `source` connects to a `destination` port"
   ]
  },
  {
   "cell_type": "code",
   "execution_count": null,
   "metadata": {},
   "outputs": [],
   "source": [
    "pp.qp(pp.c.bend_circular())"
   ]
  },
  {
   "cell_type": "code",
   "execution_count": null,
   "metadata": {},
   "outputs": [],
   "source": [
    "c = pp.Component(\"sample_reference_connect\")\n",
    "\n",
    "mmi = c << pp.c.mmi1x2()\n",
    "b = c << pp.c.bend_circular()\n",
    "\n",
    "b.connect(\"W0\", destination=mmi.ports[\"E1\"])\n",
    "pp.qp(c)"
   ]
  },
  {
   "cell_type": "markdown",
   "metadata": {},
   "source": [
    "## component_sequence\n",
    "\n",
    "When you have repetitive connections you can describe the connectivity as an ASCII map"
   ]
  },
  {
   "cell_type": "code",
   "execution_count": null,
   "metadata": {},
   "outputs": [],
   "source": [
    "import pp"
   ]
  },
  {
   "cell_type": "code",
   "execution_count": null,
   "metadata": {},
   "outputs": [],
   "source": [
    "bend180 = pp.c.bend_circular180()\n",
    "wg_heater = pp.c.waveguide_heater()\n",
    "wg = pp.c.waveguide()\n",
    "\n",
    "# Define a map between symbols and (component, input port, output port)\n",
    "string_to_device_in_out_ports = {\n",
    "    \"A\": (bend180, \"W0\", \"W1\"),\n",
    "    \"B\": (bend180, \"W1\", \"W0\"),\n",
    "    \"H\": (wg_heater, \"W0\", \"E0\"),\n",
    "    \"-\": (wg, \"W0\", \"E0\"),\n",
    "}\n",
    "\n",
    "# Generate a sequence\n",
    "# This is simply a chain of characters. Each of them represents a component\n",
    "# with a given input and and a given output\n",
    "\n",
    "sequence = \"AB-H-H-H-H-BA\"\n",
    "component = pp.c.component_sequence(sequence, string_to_device_in_out_ports)\n",
    "pp.qp(component)\n",
    "pp.show(component)"
   ]
  },
  {
   "cell_type": "markdown",
   "metadata": {},
   "source": [
    "As the sequence is defined as a string you can use the string operations to build complicated sequences"
   ]
  },
  {
   "cell_type": "code",
   "execution_count": null,
   "metadata": {},
   "outputs": [],
   "source": [
    "from pp.components.waveguide import _arbitrary_straight_waveguide\n",
    "\n",
    "\n",
    "@pp.autoname\n",
    "def phase_modulator_waveguide(length, wg_width=0.5, cladding=3.0, si_outer_clad=1.0):\n",
    "    \"\"\"\n",
    "    Phase modulator waveguide mockup\n",
    "    \"\"\"\n",
    "    a = wg_width / 2\n",
    "    b = a + cladding\n",
    "    c = b + si_outer_clad\n",
    "\n",
    "    windows = [\n",
    "        (-c, -b, pp.LAYER.WG),\n",
    "        (-b, -a, pp.LAYER.SLAB90),\n",
    "        (-a, a, pp.LAYER.WG),\n",
    "        (a, b, pp.LAYER.SLAB90),\n",
    "        (b, c, pp.LAYER.WG),\n",
    "    ]\n",
    "\n",
    "    component = _arbitrary_straight_waveguide(length=length, windows=windows)\n",
    "    return component\n",
    "\n",
    "\n",
    "@pp.autoname\n",
    "def test_cutback_phase(straight_length=100.0, bend_radius=10.0, n=2):\n",
    "    bend180 = pp.c.bend_circular(radius=bend_radius, start_angle=-90, theta=180)\n",
    "    pm_wg = phase_modulator_waveguide(length=straight_length)\n",
    "    wg_short = pp.c.waveguide(length=1.0)\n",
    "    wg_short2 = pp.c.waveguide(length=2.0)\n",
    "    wg_heater = pp.c.waveguide_heater(length=10.0)\n",
    "    taper = pp.c.taper_strip_to_ridge()\n",
    "\n",
    "    # Define a map between symbols and (component, input port, output port)\n",
    "    string_to_device_in_out_ports = {\n",
    "        \"I\": (taper, \"1\", \"wg_2\"),\n",
    "        \"O\": (taper, \"wg_2\", \"1\"),\n",
    "        \"S\": (wg_short, \"W0\", \"E0\"),\n",
    "        \"P\": (pm_wg, \"W0\", \"E0\"),\n",
    "        \"A\": (bend180, \"W0\", \"W1\"),\n",
    "        \"B\": (bend180, \"W1\", \"W0\"),\n",
    "        \"H\": (wg_heater, \"W0\", \"E0\"),\n",
    "        \"-\": (wg_short2, \"W0\", \"E0\"),\n",
    "    }\n",
    "\n",
    "    # Generate a sequence\n",
    "    # This is simply a chain of characters. Each of them represents a component\n",
    "    # with a given input and and a given output\n",
    "\n",
    "    repeated_sequence = \"SIPOSASIPOSB\"\n",
    "    heater_seq = \"-H-H-H-H-\"\n",
    "    sequence = repeated_sequence * n + \"SIPO\" + heater_seq\n",
    "    return pp.c.component_sequence(sequence, string_to_device_in_out_ports)"
   ]
  },
  {
   "cell_type": "code",
   "execution_count": null,
   "metadata": {},
   "outputs": [],
   "source": [
    "c = test_cutback_phase(n=1)\n",
    "pp.qp(c)"
   ]
  },
  {
   "cell_type": "code",
   "execution_count": null,
   "metadata": {},
   "outputs": [],
   "source": [
    "c = test_cutback_phase(n=2)\n",
    "pp.qp(c)"
   ]
  },
  {
   "cell_type": "markdown",
   "metadata": {},
   "source": [
    "## component_lattice\n",
    "\n",
    "You can also define a 2D map"
   ]
  },
  {
   "cell_type": "code",
   "execution_count": null,
   "metadata": {},
   "outputs": [],
   "source": [
    "import pp"
   ]
  },
  {
   "cell_type": "code",
   "execution_count": null,
   "metadata": {},
   "outputs": [],
   "source": [
    "components = {\n",
    "    \"C\": pp.routing.package_optical2x2(component=pp.c.coupler, port_spacing=40.0),\n",
    "    \"X\": pp.c.crossing45(port_spacing=40.0),\n",
    "    \"-\": pp.c.compensation_path(crossing45=pp.c.crossing45(port_spacing=40.0)),\n",
    "}"
   ]
  },
  {
   "cell_type": "code",
   "execution_count": null,
   "metadata": {},
   "outputs": [],
   "source": [
    "lattice = \"\"\"\n",
    "        CX\n",
    "        CX\n",
    "\"\"\"\n",
    "c = pp.c.component_lattice(lattice=lattice, components=components)\n",
    "pp.qp(c)"
   ]
  },
  {
   "cell_type": "code",
   "execution_count": null,
   "metadata": {},
   "outputs": [],
   "source": [
    "lattice = \"\"\"\n",
    "        CCX\n",
    "        CCX\n",
    "\"\"\"\n",
    "c = pp.c.component_lattice(lattice=lattice, components=components)\n",
    "pp.qp(c)"
   ]
  },
  {
   "cell_type": "code",
   "execution_count": null,
   "metadata": {},
   "outputs": [],
   "source": [
    "lattice = \"\"\"\n",
    "        C-X\n",
    "        CXX\n",
    "        CXX\n",
    "        C-X\n",
    "\"\"\"\n",
    "c = pp.c.component_lattice(lattice=lattice, components=components)\n",
    "pp.qp(c)"
   ]
  },
  {
   "cell_type": "code",
   "execution_count": null,
   "metadata": {},
   "outputs": [],
   "source": []
  }
 ],
 "metadata": {
  "kernelspec": {
   "display_name": "Python 3",
   "language": "python",
   "name": "python3"
  },
  "language_info": {
   "codemirror_mode": {
    "name": "ipython",
    "version": 3
   },
   "file_extension": ".py",
   "mimetype": "text/x-python",
   "name": "python",
   "nbconvert_exporter": "python",
   "pygments_lexer": "ipython3",
   "version": "3.8.3"
  }
 },
 "nbformat": 4,
 "nbformat_minor": 4
}
