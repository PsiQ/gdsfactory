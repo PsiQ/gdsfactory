{
 "cells": [
  {
   "cell_type": "markdown",
   "metadata": {},
   "source": [
    "# Sparameters\n",
    "\n",
    "gdsfactory provides you with a Lumerical FDTD interface to calculate Sparameters\n",
    "\n",
    "by default another repo [gdslib](https://gdslib.readthedocs.io/en/latest/index.html) stores the Sparameters \n",
    "\n",
    "You can chain the Sparameters to calculate solve of larger\n",
    "circuits using a circuit solver such as:\n",
    "\n",
    "- Lumerical interconnect\n",
    "- [simphony (open source)](https://simphonyphotonics.readthedocs.io/en/latest/)\n",
    "\n",
    "\n",
    "If the Sparameters exists in `gdslib` you can access them really fast."
   ]
  },
  {
   "cell_type": "code",
   "execution_count": null,
   "metadata": {},
   "outputs": [],
   "source": [
    "import pp\n",
    "\n",
    "pp.sp.plot(pp.c.mmi1x2(), keys=['S23m', 'S13m'], logscale=True)"
   ]
  },
  {
   "cell_type": "markdown",
   "metadata": {},
   "source": [
    "gdsfactory can also compute the Sparameters of a component that have not been simulated before."
   ]
  },
  {
   "cell_type": "code",
   "execution_count": null,
   "metadata": {},
   "outputs": [],
   "source": [
    "import pp\n",
    "\n",
    "cs = [pp.c.coupler_ring(gap=gap, bend_radius=bend_radius) for gap in [0.15, 0.2, 0.3] for bend_radius in [5, 10]]\n",
    "\n",
    "for c in cs:\n",
    "    pp.show(c)\n",
    "    print(c)\n",
    "    pp.sp.write(c)"
   ]
  },
  {
   "cell_type": "markdown",
   "metadata": {},
   "source": [
    "To debug a simulation you can create a Lumerical session outside the simulator, pass it to the simulator, and use `run=False` flag"
   ]
  },
  {
   "cell_type": "code",
   "execution_count": null,
   "metadata": {},
   "outputs": [],
   "source": [
    "import lumapi\n",
    "s = lumapi.FDTD()\n",
    "c = pp.c.waveguide()\n",
    "pp.sp.write(c, run=False, session=s)"
   ]
  },
  {
   "cell_type": "markdown",
   "metadata": {},
   "source": [
    "By default gdsfactory uses the generic layermap for 220nm height silicon layer.\n",
    "\n",
    "You can also define your components with a different material, thicknes or GDS layermap"
   ]
  },
  {
   "cell_type": "code",
   "execution_count": null,
   "metadata": {},
   "outputs": [],
   "source": [
    "layer2material = {\n",
    "    (2, 0): \"sin\",\n",
    "}\n",
    "\n",
    "layer2nm = {(2, 0): 400}\n",
    "\n",
    "c = pp.c.waveguide(layer=(2,0))\n",
    "sp = pp.sp.write(c, layer2nm=layer2nm, layer2material=layer2material, session=s)"
   ]
  },
  {
   "cell_type": "code",
   "execution_count": null,
   "metadata": {},
   "outputs": [],
   "source": [
    "pp.qp(c)"
   ]
  },
  {
   "cell_type": "code",
   "execution_count": null,
   "metadata": {},
   "outputs": [],
   "source": [
    "pp.sp.plot(c)"
   ]
  }
 ],
 "metadata": {
  "kernelspec": {
   "display_name": "Python 3",
   "language": "python",
   "name": "python3"
  },
  "language_info": {
   "codemirror_mode": {
    "name": "ipython",
    "version": 3
   },
   "file_extension": ".py",
   "mimetype": "text/x-python",
   "name": "python",
   "nbconvert_exporter": "python",
   "pygments_lexer": "ipython3",
   "version": "3.7.7"
  }
 },
 "nbformat": 4,
 "nbformat_minor": 4
}
