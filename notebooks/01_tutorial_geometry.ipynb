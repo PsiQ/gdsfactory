{
 "cells": [
  {
   "cell_type": "markdown",
   "metadata": {},
   "source": [
    "# Gdsfactory tutorial\n",
    "\n",
    "Lets demonstrate some basic functionality of gdsfactory. For a much more\n",
    "detailed tutorial go to `pp/samples`\n",
    "\n",
    "[based on phidl\n",
    "tutorial](https://github.com/amccaugh/phidl/blob/master/phidl/phidl_tutorial_example.py#L35)"
   ]
  },
  {
   "cell_type": "code",
   "execution_count": null,
   "metadata": {},
   "outputs": [],
   "source": [
    "import pp\n",
    "\n",
    "# Create a blank component (essentially an empty GDS cell with some special features)\n",
    "c = pp.Component('myComponent')\n",
    "\n",
    "# Create and add a polygon from separate lists of x points and y points\n",
    "# (Can also be added like [(x1,y1), (x2,y2), (x3,y3), ... ]\n",
    "poly1 = c.add_polygon( [(-8,6,7,9), (-6,8,17,5)], layer = 0)\n",
    "\n",
    "\n",
    "# Create some new geometry from the functions available in the geometry library\n",
    "t = pp.c.text('Hello!')\n",
    "r = pp.c.rectangle(size = [5,10], layer = 2)\n",
    "\n",
    "# Add references to the new geometry to c, our blank device\n",
    "text1 = c.add_ref(t) # Add the text we created as a reference\n",
    "text2 = c << t # Using the << operator (identical to add_ref()), add the same geometry a second time\n",
    "r = c << r # Add the rectangle we created\n",
    "\n",
    "# Now that the geometry has been added to \"c\", we can move everything around:\n",
    "text1.movey(25)\n",
    "text2.move([5,30])\n",
    "text2.rotate(45)\n",
    "r.movex(-15)\n",
    "\n",
    "pp.qp(c) # quickplot it!\n",
    "pp.show(c) # show it in klayout"
   ]
  },
  {
   "cell_type": "markdown",
   "metadata": {},
   "source": [
    "# Smarter movement with **ports**\n",
    "\n",
    "Any Component can have \"Port\"s in it which allow you to snap geometry together\n",
    "like legos.  Below is an example where we write a simple function to make a\n",
    "rectangular waveguide, assign ports to the ends of the rectangle, and then snap\n",
    "those rectangles together"
   ]
  },
  {
   "cell_type": "code",
   "execution_count": null,
   "metadata": {},
   "outputs": [],
   "source": [
    "\n",
    "def waveguide(width = 10, height = 1, layer = 0):\n",
    "    WG = pp.Component('waveguide')\n",
    "    WG.add_polygon( [(0, 0), (width, 0), (width, height), (0, height)], layer = layer)\n",
    "    WG.add_port(name = 'W0', midpoint = [0,height/2], width = height, orientation = 180)\n",
    "    WG.add_port(name = 'E0', midpoint = [width,height/2], width = height, orientation = 0)\n",
    "    return WG\n",
    "\n",
    "c = pp.Component('waveguides')\n",
    "\n",
    "wg1 = c << waveguide(width=6, height = 2.5, layer = 1)\n",
    "wg2 = c << waveguide(width=11, height = 2.5, layer = 2)\n",
    "wg3 = c << waveguide(width=15, height = 2.5, layer = 3)\n",
    "wg2.movey(10).rotate(10)\n",
    "wg3.movey(20).rotate(15)\n",
    "\n",
    "# And plot the result!\n",
    "pp.qp(c, new_window = True)\n",
    "pp.show(c)"
   ]
  },
  {
   "cell_type": "code",
   "execution_count": null,
   "metadata": {},
   "outputs": [],
   "source": [
    "# Now we can connect everything together using the ports:\n",
    "\n",
    "# Each waveguide has two ports: 'W0' and 'E0'.  These are arbitrary \n",
    "# names defined in our waveguide() function above\n",
    "\n",
    "# Let's keep wg1 in place on the bottom, and connect the other waveguides to it.\n",
    "# To do that, on wg2 we'll grab the \"W0\" port and connect it to the \"E0\" on wg1:\n",
    "wg2.connect('W0', wg1.ports['E0'])\n",
    "# Next, on wg3 let's grab the \"W0\" port and connect it to the \"E0\" on wg2:\n",
    "wg3.connect('W0', wg2.ports['E0'])\n",
    "\n",
    "# And plot the result!\n",
    "pp.qp(c, new_window = True)\n"
   ]
  },
  {
   "cell_type": "markdown",
   "metadata": {},
   "source": [
    "# Manipulating geometry 1 - Basic movement and rotation\n",
    "\n",
    "There are several actions we can take to move and rotate the geometry.\n",
    "\n",
    "These actions include movement, rotation, and reflection."
   ]
  },
  {
   "cell_type": "code",
   "execution_count": null,
   "metadata": {},
   "outputs": [],
   "source": [
    "c = pp.Component('waveguides')\n",
    "\n",
    "wg1 = c << waveguide(width=6, height = 2.5, layer = 1)\n",
    "wg2 = c << waveguide(width=11, height = 2.5, layer = 2)\n",
    "wg3 = c << waveguide(width=15, height = 2.5, layer = 3)\n",
    "\n",
    "# Create and add a polygon from separate lists of x points and y points\n",
    "# e.g. [(x1, x2, x3, ...), (y1, y2, y3, ...)]\n",
    "poly1 = c.add_polygon( [(8,6,7,9), (6,8,9,5)] )\n",
    "\n",
    "# Alternatively, create and add a polygon from a list of points\n",
    "# e.g. [(x1,y1), (x2,y2), (x3,y3), ...] using the same function\n",
    "poly2 = c.add_polygon( [(0, 0), (1, 1), (1, 3), (-3, 3)] )\n",
    "\n",
    "\n",
    "wg1.move([10,4]) # Shift the second waveguide we created over by dx = 10, dy = 4\n",
    "wg2.move(origin = [1,1], destination = [2,2]) # Shift the second waveguide over by dx = 1, dy = 1\n",
    "wg3.move([1,1], [5,5], axis = 'y') # Shift the third waveguide over by dx = 0, dy = 4 (motion only along y-axis)\n",
    "poly1.movey(4) # Same as specifying axis='y' in the move() command\n",
    "poly2.movex(4) # Same as specifying axis='x'' in the move() command\n",
    "wg3.movex(30,40) # Moves \"from\" x=30 \"to\" x=40 (e.g. shifts wg3 by +10 in the x-direction)\n",
    "\n",
    "# wg1.rotate(45) # Rotate the first waveguide by 45 degrees around (0,0)\n",
    "# wg2.rotate(30, center = [1,1]) # Rotate the second waveguide by 30 degrees around (1,1)\n",
    "# wg1.reflect(p1 = [1,1], p2 = [1,3]) # Reflects wg3 across the line formed by p1 and p2\n",
    "\n",
    "pp.qp(c)"
   ]
  },
  {
   "cell_type": "markdown",
   "metadata": {},
   "source": [
    "# Adding ports\n",
    "\n",
    "Although our waveguides wg1/wg2/wg3 have ports, they're only references\n",
    "of the device ``D`` we're working in, and D itself does not -- it only draws\n",
    "the subports (ports of wg1, wg2, wg3) as a convenience.  We need to add ports\n",
    "that we specifically want in our new device ``D``. add_port() can take a\n",
    "port argument which allows you to pass it an underlying reference port to\n",
    "copy. You can also rename the port if you desire:"
   ]
  },
  {
   "cell_type": "code",
   "execution_count": null,
   "metadata": {},
   "outputs": [],
   "source": [
    "\n",
    "c = pp.Component('waveguides')\n",
    "\n",
    "wg1 = c << waveguide(width=6, height = 2.5, layer = 1)\n",
    "wg2 = c << waveguide(width=11, height = 2.5, layer = 2)\n",
    "wg3 = c << waveguide(width=15, height = 2.5, layer = 3)\n",
    "\n",
    "wg2.connect('W0', wg1.ports['E0'])\n",
    "wg3.connect('W0', wg2.ports['E0'])\n",
    "\n",
    "p1 = c.add_port(port = wg1.ports['W0'], name = \"W0\")\n",
    "p2 = c.add_port(port = wg3.ports['E0'], name = \"E0\")\n",
    "pp.qp(c)\n"
   ]
  },
  {
   "cell_type": "markdown",
   "metadata": {},
   "source": [
    "# Adding references\n",
    "\n",
    "Now that we have our device ``c`` which is a multi-waveguide device, we\n",
    "can add references to that device in a new blank canvas we'll call ``c2``.\n",
    "We'll add two copies of ``c`` to c2, and shift one so we can see them both"
   ]
  },
  {
   "cell_type": "code",
   "execution_count": null,
   "metadata": {},
   "outputs": [],
   "source": [
    "c2 = pp.Component('MultiMultiWaveguide')\n",
    "mwg1 = c2.add_ref(c)\n",
    "mwg2 = c2.add_ref(c)\n",
    "mwg2.move(destination = [10,10])\n",
    "\n",
    "pp.qp(c2) # quickplot it!\n",
    "\n",
    "# Like before, let's connect mwg1 and mwg2 together\n",
    "mwg1.connect(port = \"E0\", destination = mwg2.ports[\"W0\"])\n",
    "\n",
    "pp.qp(c2) # quickplot it!\n"
   ]
  },
  {
   "cell_type": "markdown",
   "metadata": {},
   "source": [
    "# Labeling\n",
    "\n",
    "We can also label (annotate) our devices, in order to record information\n",
    "directly into the final GDS file without putting any extra geometry onto any\n",
    "layer\n",
    "This label will display in a GDS viewer, but will not be rendered or printed\n",
    "like the polygons created by the text().\n",
    "You can use for example pp.show() to see the labels in Klayout"
   ]
  },
  {
   "cell_type": "code",
   "execution_count": null,
   "metadata": {},
   "outputs": [],
   "source": [
    "\n",
    "c2.add_label(text = 'First label', position = mwg1.center)\n",
    "c2.add_label('Second label', mwg2.center)\n",
    "\n",
    "# It's very useful for recording information about the devices or layout\n",
    "c2.add_label(text = f'The x size of this\\nlayout is {c2.xsize}',\n",
    "            position = (c2.xmax, c2.ymax), layer = 255)\n",
    "\n",
    "# Again, note we have to write the GDS for it to be visible (view in KLayout)\n",
    "c2.write_gds('MultiMultiWaveguideWithLabels.gds')\n",
    "pp.qp(c2) # quickplot does not show the labels\n",
    "pp.show(c2) # klayout will show the labels\n"
   ]
  },
  {
   "cell_type": "markdown",
   "metadata": {},
   "source": [
    "\n",
    "# Making boolean shapes\n",
    "\n",
    "If you want to subtract one shape from another, merge two shapes, or\n",
    "perform an XOR on them, you can do that with the `pp.pg.boolean()` function.\n",
    "\n",
    "\n",
    "The ``operation`` argument should be {not, and, or, xor, 'A-B', 'B-A', 'A+B'}.\n",
    "Note that 'A+B' is equivalent to 'or', 'A-B' is equivalent to 'not', and\n",
    "'B-A' is equivalent to 'not' with the operands switched\n"
   ]
  },
  {
   "cell_type": "code",
   "execution_count": null,
   "metadata": {},
   "outputs": [],
   "source": [
    "import pp\n",
    "e1 = pp.c.ellipse()\n",
    "e2 = pp.c.ellipse(radii=(10, 6)).movex(2)\n",
    "e3 = pp.c.ellipse(radii=(10, 4)).movex(5)\n",
    "pp.qp([e1, e2, e3])"
   ]
  },
  {
   "cell_type": "code",
   "execution_count": null,
   "metadata": {},
   "outputs": [],
   "source": [
    "c = pp.boolean(A = [e1, e3], B = e2, operation = 'A-B')\n",
    "pp.qp(c)\n",
    "pp.show(c)"
   ]
  }
 ],
 "metadata": {
  "kernelspec": {
   "display_name": "Python 3",
   "language": "python",
   "name": "python3"
  },
  "language_info": {
   "codemirror_mode": {
    "name": "ipython",
    "version": 3
   },
   "file_extension": ".py",
   "mimetype": "text/x-python",
   "name": "python",
   "nbconvert_exporter": "python",
   "pygments_lexer": "ipython3",
   "version": "3.7.7"
  }
 },
 "nbformat": 4,
 "nbformat_minor": 2
}
